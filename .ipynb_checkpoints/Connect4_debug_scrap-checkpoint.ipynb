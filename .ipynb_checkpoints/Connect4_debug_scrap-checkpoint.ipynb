{
 "cells": [
  {
   "cell_type": "code",
   "execution_count": 2,
   "metadata": {},
   "outputs": [],
   "source": [
    "from AgentZero import *"
   ]
  },
  {
   "cell_type": "code",
   "execution_count": 3,
   "metadata": {},
   "outputs": [],
   "source": [
    "old_net = agent.nnet.create_model()"
   ]
  },
  {
   "cell_type": "code",
   "execution_count": 11,
   "metadata": {},
   "outputs": [
    {
     "name": "stdout",
     "output_type": "stream",
     "text": [
      "\u001b[34mAgentZero_Conv128_FC64\u001b[m\u001b[m/\r\n",
      "\u001b[34mCONV128_64_64_LR15e-4_50000_episodes_vs_SmartRandAgent\u001b[m\u001b[m/\r\n",
      "\u001b[34mStateEvalAgentSelfPlay_40000_episodes_vs_self\u001b[m\u001b[m/\r\n",
      "\u001b[34mStateEvalAgent_40000_episodes_vs_SmartRandAgent\u001b[m\u001b[m/\r\n"
     ]
    }
   ],
   "source": [
    "ls models\n"
   ]
  },
  {
   "cell_type": "code",
   "execution_count": 12,
   "metadata": {},
   "outputs": [],
   "source": [
    "old_net.load_weights(r'/Users/timwu/Connect4/models/AgentZero_Conv128_FC64/version_1_old_weights.h5')"
   ]
  },
  {
   "cell_type": "code",
   "execution_count": 13,
   "metadata": {},
   "outputs": [],
   "source": [
    "new_net = agent.nnet.create_model()"
   ]
  },
  {
   "cell_type": "code",
   "execution_count": 14,
   "metadata": {},
   "outputs": [],
   "source": [
    "old_mcts = MCTS(env, old_net, 1)\n",
    "new_mcts = MCTS(env, new_net, 1)\n"
   ]
  },
  {
   "cell_type": "code",
   "execution_count": 15,
   "metadata": {},
   "outputs": [],
   "source": [
    "state = env.reset()"
   ]
  },
  {
   "cell_type": "code",
   "execution_count": 18,
   "metadata": {},
   "outputs": [
    {
     "data": {
      "text/plain": [
       "0"
      ]
     },
     "execution_count": 18,
     "metadata": {},
     "output_type": "execute_result"
    }
   ],
   "source": [
    "2%2"
   ]
  },
  {
   "cell_type": "code",
   "execution_count": 19,
   "metadata": {},
   "outputs": [
    {
     "data": {
      "text/plain": [
       "array([ 9551, 11464, 16290, 11079,  7391, 11725,  5025, 14639, 16478,\n",
       "       17582, 19962, 10017,  1337,  3562, 18583,  4078,  6699,   209,\n",
       "        2556, 19102,  7623, 12743,  8291,  4628, 12588,  3584, 13549,\n",
       "        2104, 18900, 19640,  6052, 17816, 14705,  1842, 17870,  8094,\n",
       "       14071,  9429, 11004,  5786,  5168,  7544,  8290,  1313, 10662,\n",
       "       11226,  2886, 16294, 16844, 14683,   469,   956, 17663, 15655,\n",
       "       15578,  7327,  9273, 16320,  2221,  7205,  6546,  1737,   794,\n",
       "       19198])"
      ]
     },
     "execution_count": 19,
     "metadata": {},
     "output_type": "execute_result"
    }
   ],
   "source": [
    "np.random.randint(20000, size=64)"
   ]
  },
  {
   "cell_type": "code",
   "execution_count": 42,
   "metadata": {},
   "outputs": [
    {
     "data": {
      "text/plain": [
       "array([0.01, 1.  , 0.01, 0.01, 0.01, 0.01, 0.01])"
      ]
     },
     "execution_count": 42,
     "metadata": {},
     "output_type": "execute_result"
    }
   ],
   "source": [
    "counts = [1,2,1,1,1,1,1]\n",
    "best_idx = np.argmax(counts)\n",
    "probs = np.array([1 if i == best_idx else 1e-2 for i in range(len(counts))])\n",
    "probs"
   ]
  },
  {
   "cell_type": "code",
   "execution_count": 29,
   "metadata": {},
   "outputs": [
    {
     "data": {
      "text/plain": [
       "[0.009345794392523364,\n",
       " 0.9439252336448598,\n",
       " 0.009345794392523364,\n",
       " 0.009345794392523364,\n",
       " 0.009345794392523364,\n",
       " 0.009345794392523364,\n",
       " 0.009345794392523364]"
      ]
     },
     "execution_count": 29,
     "metadata": {},
     "output_type": "execute_result"
    }
   ],
   "source": [
    "probs/=sum(probs)\n",
    "list(probs)"
   ]
  },
  {
   "cell_type": "code",
   "execution_count": 31,
   "metadata": {},
   "outputs": [
    {
     "data": {
      "text/plain": [
       "6"
      ]
     },
     "execution_count": 31,
     "metadata": {},
     "output_type": "execute_result"
    }
   ],
   "source": [
    "sum(np.array([1,2,3]))"
   ]
  },
  {
   "cell_type": "code",
   "execution_count": 46,
   "metadata": {},
   "outputs": [
    {
     "data": {
      "text/plain": [
       "1.0"
      ]
     },
     "execution_count": 46,
     "metadata": {},
     "output_type": "execute_result"
    }
   ],
   "source": [
    "sum(np.random.dirichlet(list(probs)))"
   ]
  },
  {
   "cell_type": "code",
   "execution_count": 47,
   "metadata": {},
   "outputs": [
    {
     "data": {
      "text/plain": [
       "26.870057685088806"
      ]
     },
     "execution_count": 47,
     "metadata": {},
     "output_type": "execute_result"
    }
   ],
   "source": [
    "np.sqrt(722)"
   ]
  },
  {
   "cell_type": "code",
   "execution_count": 52,
   "metadata": {},
   "outputs": [],
   "source": [
    "state = env.board"
   ]
  },
  {
   "cell_type": "code",
   "execution_count": null,
   "metadata": {},
   "outputs": [],
   "source": []
  },
  {
   "cell_type": "code",
   "execution_count": null,
   "metadata": {},
   "outputs": [],
   "source": []
  }
 ],
 "metadata": {
  "kernelspec": {
   "display_name": "Python 3",
   "language": "python",
   "name": "python3"
  },
  "language_info": {
   "codemirror_mode": {
    "name": "ipython",
    "version": 3
   },
   "file_extension": ".py",
   "mimetype": "text/x-python",
   "name": "python",
   "nbconvert_exporter": "python",
   "pygments_lexer": "ipython3",
   "version": "3.8.1"
  }
 },
 "nbformat": 4,
 "nbformat_minor": 4
}
